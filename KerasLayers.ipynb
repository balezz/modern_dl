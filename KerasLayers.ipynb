{
  "nbformat": 4,
  "nbformat_minor": 0,
  "metadata": {
    "colab": {
      "name": "KerasLayers.ipynb",
      "provenance": [],
      "authorship_tag": "ABX9TyPPAyXSei+xZY3LJ1N5MWFd",
      "include_colab_link": true
    },
    "kernelspec": {
      "name": "python3",
      "display_name": "Python 3"
    },
    "language_info": {
      "name": "python"
    }
  },
  "cells": [
    {
      "cell_type": "markdown",
      "metadata": {
        "id": "view-in-github",
        "colab_type": "text"
      },
      "source": [
        "<a href=\"https://colab.research.google.com/github/balezz/modern_dl/blob/main/KerasLayers.ipynb\" target=\"_parent\"><img src=\"https://colab.research.google.com/assets/colab-badge.svg\" alt=\"Open In Colab\"/></a>"
      ]
    },
    {
      "cell_type": "code",
      "metadata": {
        "id": "nmsSbEApjbXX"
      },
      "source": [
        "import numpy as np\n",
        "import tensorflow as tf"
      ],
      "execution_count": 73,
      "outputs": []
    },
    {
      "cell_type": "code",
      "metadata": {
        "id": "DYr1Y1yRmppl"
      },
      "source": [
        "import tensorflow.keras as K"
      ],
      "execution_count": 4,
      "outputs": []
    },
    {
      "cell_type": "code",
      "metadata": {
        "id": "P6EkL8gPnfwc"
      },
      "source": [
        "relu = K.activations.relu"
      ],
      "execution_count": 6,
      "outputs": []
    },
    {
      "cell_type": "code",
      "metadata": {
        "colab": {
          "base_uri": "https://localhost:8080/"
        },
        "id": "cQgwvD4-oCVF",
        "outputId": "2a85e2d2-3bcd-4bae-c02b-d2db61492cce"
      },
      "source": [
        "X = np.arange(-10, 10, dtype=float)\n",
        "\n",
        "relu(X, threshold=4).numpy()"
      ],
      "execution_count": 18,
      "outputs": [
        {
          "output_type": "execute_result",
          "data": {
            "text/plain": [
              "array([-0., -0., -0., -0., -0., -0., -0., -0., -0., -0.,  0.,  0.,  0.,\n",
              "        0.,  0.,  5.,  6.,  7.,  8.,  9.])"
            ]
          },
          "metadata": {},
          "execution_count": 18
        }
      ]
    },
    {
      "cell_type": "code",
      "metadata": {
        "id": "46EkM7bJpxZ-"
      },
      "source": [
        "out = K.activations.sigmoid(X)"
      ],
      "execution_count": 20,
      "outputs": []
    },
    {
      "cell_type": "code",
      "metadata": {
        "colab": {
          "base_uri": "https://localhost:8080/",
          "height": 282
        },
        "id": "XAGwOpN2p-mT",
        "outputId": "97caa1c1-c186-43b4-c620-3d4aca8b65ff"
      },
      "source": [
        "import matplotlib.pyplot as plt\n",
        "plt.plot(out)"
      ],
      "execution_count": 21,
      "outputs": [
        {
          "output_type": "execute_result",
          "data": {
            "text/plain": [
              "[<matplotlib.lines.Line2D at 0x7fc62a329ad0>]"
            ]
          },
          "metadata": {},
          "execution_count": 21
        },
        {
          "output_type": "display_data",
          "data": {
            "image/png": "[encoded data removed]",
            "text/plain": [
              "<Figure size 432x288 with 1 Axes>"
            ]
          },
          "metadata": {
            "needs_background": "light"
          }
        }
      ]
    },
    {
      "cell_type": "code",
      "metadata": {
        "id": "GXBLmZJWqwkd"
      },
      "source": [
        "dense = K.layers.Dense(10)"
      ],
      "execution_count": 37,
      "outputs": []
    },
    {
      "cell_type": "code",
      "metadata": {
        "id": "XobMxu26rj9J"
      },
      "source": [
        "out = dense(np.ones((1, 1000)))"
      ],
      "execution_count": 38,
      "outputs": []
    },
    {
      "cell_type": "code",
      "metadata": {
        "colab": {
          "base_uri": "https://localhost:8080/",
          "height": 366
        },
        "id": "dDVGwNM9r0_2",
        "outputId": "a27dcd61-4a01-4cfb-898f-beec8fc8b1fb"
      },
      "source": [
        "plt.hist(dense.get_weights()[0].ravel())"
      ],
      "execution_count": 39,
      "outputs": [
        {
          "output_type": "execute_result",
          "data": {
            "text/plain": [
              "(array([ 941.,  989., 1020., 1030., 1045.,  973.,  956., 1023., 1031.,\n",
              "         992.]),\n",
              " array([-7.7072307e-02, -6.1660483e-02, -4.6248659e-02, -3.0836837e-02,\n",
              "        -1.5425014e-02, -1.3191253e-05,  1.5398632e-02,  3.0810455e-02,\n",
              "         4.6222277e-02,  6.1634101e-02,  7.7045925e-02], dtype=float32),\n",
              " <a list of 10 Patch objects>)"
            ]
          },
          "metadata": {},
          "execution_count": 39
        },
        {
          "output_type": "display_data",
          "data": {
            "image/png": "[encoded data removed]",
            "text/plain": [
              "<Figure size 432x288 with 1 Axes>"
            ]
          },
          "metadata": {
            "needs_background": "light"
          }
        }
      ]
    },
    {
      "cell_type": "code",
      "metadata": {
        "id": "zyC80PHntoU7"
      },
      "source": [
        "K.regularizers.l1_l2()"
      ],
      "execution_count": null,
      "outputs": []
    },
    {
      "cell_type": "code",
      "metadata": {
        "id": "PQhly0u0yTfy"
      },
      "source": [
        "input_shape = (1, 10, 3)\n",
        "X = np.ones(input_shape)\n",
        "conv1D = K.layers.Conv1D(filters=4, kernel_size=5, \n",
        "                         kernel_initializer=K.initializers.ones,\n",
        "                         bias_initializer='zeros')"
      ],
      "execution_count": 66,
      "outputs": []
    },
    {
      "cell_type": "code",
      "metadata": {
        "colab": {
          "base_uri": "https://localhost:8080/"
        },
        "id": "DRvaRB2w1-Th",
        "outputId": "2936cf1d-b024-4852-ac3c-f4cd23b0ae94"
      },
      "source": [
        "conv1D.weights[0].shape"
      ],
      "execution_count": 71,
      "outputs": [
        {
          "output_type": "execute_result",
          "data": {
            "text/plain": [
              "TensorShape([5, 3, 4])"
            ]
          },
          "metadata": {},
          "execution_count": 71
        }
      ]
    },
    {
      "cell_type": "code",
      "metadata": {
        "colab": {
          "base_uri": "https://localhost:8080/"
        },
        "id": "ueu8b53hy13e",
        "outputId": "e2765123-b6f1-420f-b668-66ec3414a43a"
      },
      "source": [
        "out = conv1D(X)\n",
        "print(out)"
      ],
      "execution_count": 70,
      "outputs": [
        {
          "output_type": "stream",
          "name": "stdout",
          "text": [
            "tf.Tensor(\n",
            "[[[15. 15. 15. 15.]\n",
            "  [15. 15. 15. 15.]\n",
            "  [15. 15. 15. 15.]\n",
            "  [15. 15. 15. 15.]\n",
            "  [15. 15. 15. 15.]\n",
            "  [15. 15. 15. 15.]]], shape=(1, 6, 4), dtype=float32)\n"
          ]
        }
      ]
    },
    {
      "cell_type": "markdown",
      "metadata": {
        "id": "Yl7xYQ-m4Veu"
      },
      "source": [
        "# Callbacks API"
      ]
    },
    {
      "cell_type": "code",
      "metadata": {
        "id": "hxiuDEmizCTr"
      },
      "source": [
        "my_callbacks = [\n",
        "    tf.keras.callbacks.EarlyStopping(patience=2, ),\n",
        "    tf.keras.callbacks.ModelCheckpoint(filepath='model.{epoch:02d}-{val_loss:.2f}.h5'),\n",
        "    tf.keras.callbacks.TensorBoard(log_dir='./logs'),\n",
        "]"
      ],
      "execution_count": 74,
      "outputs": []
    },
    {
      "cell_type": "code",
      "metadata": {
        "id": "hD3zWHjC4ezA"
      },
      "source": [
        "(X_train, y_train), (X_test, y_test) = tf.keras.datasets.cifar10.load_data()\n",
        "y_train = K.utils.to_categorical(y_train, num_classes=10)\n",
        "y_test = K.utils.to_categorical(y_test, num_classes=10)"
      ],
      "execution_count": 84,
      "outputs": []
    },
    {
      "cell_type": "code",
      "metadata": {
        "id": "eBcZyQ3O4tid"
      },
      "source": [
        "model = K.Sequential()\n",
        "model.add(K.Input(shape=(32,32,3)))\n",
        "model.add(K.layers.Flatten())\n",
        "model.add(K.layers.Dense(64))\n",
        "model.add(K.layers.Dense(10, activation='softmax'))\n",
        "\n",
        "optimizer=tf.keras.optimizers.Adam(learning_rate=0.8e-3)\n",
        "\n",
        "model.compile(optimizer=optimizer,\n",
        "              loss='categorical_crossentropy',\n",
        "              metrics=['accuracy'])"
      ],
      "execution_count": 82,
      "outputs": []
    },
    {
      "cell_type": "code",
      "metadata": {
        "colab": {
          "base_uri": "https://localhost:8080/"
        },
        "id": "eUc9s9eD4k_P",
        "outputId": "05efc217-fc07-437a-b313-240273f83bb3"
      },
      "source": [
        "model.fit(X_train, y_train, validation_data=(X_test, y_test),\n",
        "          epochs=10, callbacks=my_callbacks)"
      ],
      "execution_count": 85,
      "outputs": [
        {
          "output_type": "stream",
          "name": "stdout",
          "text": [
            "Epoch 1/10\n",
            "1563/1563 [==============================] - 5s 3ms/step - loss: 17.8359 - accuracy: 0.2638 - val_loss: 3.4413 - val_accuracy: 0.2865\n",
            "Epoch 2/10\n",
            "1563/1563 [==============================] - 5s 3ms/step - loss: 2.2938 - accuracy: 0.3175 - val_loss: 2.0066 - val_accuracy: 0.3098\n",
            "Epoch 3/10\n",
            "1563/1563 [==============================] - 5s 3ms/step - loss: 2.0570 - accuracy: 0.3132 - val_loss: 2.2633 - val_accuracy: 0.2976\n",
            "Epoch 4/10\n",
            "1563/1563 [==============================] - 5s 3ms/step - loss: 2.1677 - accuracy: 0.2910 - val_loss: 2.2052 - val_accuracy: 0.2858\n"
          ]
        },
        {
          "output_type": "execute_result",
          "data": {
            "text/plain": [
              "<keras.callbacks.History at 0x7fc61b964850>"
            ]
          },
          "metadata": {},
          "execution_count": 85
        }
      ]
    }
  ]
}