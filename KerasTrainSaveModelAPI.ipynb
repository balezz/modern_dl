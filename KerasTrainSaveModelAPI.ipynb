{
  "nbformat": 4,
  "nbformat_minor": 0,
  "metadata": {
    "colab": {
      "name": "KerasTrainSaveModelAPI.ipynb",
      "provenance": [],
      "authorship_tag": "ABX9TyPqGV6YecoGQ7IeC+V/PjhR",
      "include_colab_link": true
    },
    "kernelspec": {
      "name": "python3",
      "display_name": "Python 3"
    },
    "language_info": {
      "name": "python"
    }
  },
  "cells": [
    {
      "cell_type": "markdown",
      "metadata": {
        "id": "view-in-github",
        "colab_type": "text"
      },
      "source": [
        "<a href=\"https://colab.research.google.com/github/balezz/modern_dl/blob/main/KerasTrainSaveModelAPI.ipynb\" target=\"_parent\"><img src=\"https://colab.research.google.com/assets/colab-badge.svg\" alt=\"Open In Colab\"/></a>"
      ]
    },
    {
      "cell_type": "code",
      "metadata": {
        "id": "qiX6eCEBvSCb"
      },
      "source": [
        "import tensorflow as tf\n",
        "import tensorflow.keras as K\n",
        "import numpy as np\n",
        "import matplotlib.pyplot as plt"
      ],
      "execution_count": 1,
      "outputs": []
    },
    {
      "cell_type": "code",
      "metadata": {
        "id": "WrU5PHt2vYjl"
      },
      "source": [
        "model = K.Sequential()\n",
        "model.add(K.Input(shape=(32,32,3)))\n",
        "model.add(K.layers.Flatten())\n",
        "model.add(K.layers.Dense(64))\n",
        "model.add(K.layers.Dense(10, activation='softmax'))"
      ],
      "execution_count": 30,
      "outputs": []
    },
    {
      "cell_type": "code",
      "metadata": {
        "id": "soPWrfletnXV"
      },
      "source": [
        "optimizer=tf.keras.optimizers.Adam(learning_rate=0.8e-3)\n",
        "\n",
        "model.compile(optimizer=optimizer,\n",
        "              loss='categorical_crossentropy',\n",
        "              metrics=['accuracy'])"
      ],
      "execution_count": 31,
      "outputs": []
    },
    {
      "cell_type": "code",
      "metadata": {
        "id": "XPVTb29zv5wu"
      },
      "source": [
        "(X_train, y_train), (X_test, y_test) = tf.keras.datasets.cifar10.load_data()"
      ],
      "execution_count": 15,
      "outputs": []
    },
    {
      "cell_type": "code",
      "metadata": {
        "colab": {
          "base_uri": "https://localhost:8080/"
        },
        "id": "OqIVULcsw3dP",
        "outputId": "fb3a5db1-7112-4787-f3de-381d0eb265ff"
      },
      "source": [
        "type(X_train)"
      ],
      "execution_count": 22,
      "outputs": [
        {
          "output_type": "execute_result",
          "data": {
            "text/plain": [
              "numpy.ndarray"
            ]
          },
          "metadata": {},
          "execution_count": 22
        }
      ]
    },
    {
      "cell_type": "code",
      "metadata": {
        "colab": {
          "base_uri": "https://localhost:8080/"
        },
        "id": "KIpiNfHqxyi5",
        "outputId": "7a47e3d5-3470-4a15-8208-2e7abe9d0dca"
      },
      "source": [
        "y_train_sparse = K.utils.to_categorical(y_train, num_classes=10)\n",
        "import time\n",
        "tic = time.time()\n",
        "history = model.fit(x=X_train, y=y_train_sparse, batch_size=32, epochs=4,\n",
        "           verbose=1, validation_split=0.2)\n",
        "tac = time.time()\n",
        "print(tac - tic)"
      ],
      "execution_count": 52,
      "outputs": [
        {
          "output_type": "stream",
          "name": "stdout",
          "text": [
            "Epoch 1/4\n",
            "1250/1250 [==============================] - 7s 5ms/step - loss: 2.1665 - accuracy: 0.3136 - val_loss: 2.5879 - val_accuracy: 0.2815\n",
            "Epoch 2/4\n",
            "1250/1250 [==============================] - 6s 5ms/step - loss: 6.2207 - accuracy: 0.3272 - val_loss: 1.8631 - val_accuracy: 0.3436\n",
            "Epoch 3/4\n",
            "1250/1250 [==============================] - 6s 5ms/step - loss: 1.8867 - accuracy: 0.3571 - val_loss: 2.6790 - val_accuracy: 0.2500\n",
            "Epoch 4/4\n",
            "1250/1250 [==============================] - 7s 5ms/step - loss: 2.2796 - accuracy: 0.3064 - val_loss: 2.9407 - val_accuracy: 0.3136\n",
            "41.3638813495636\n"
          ]
        }
      ]
    },
    {
      "cell_type": "code",
      "metadata": {
        "colab": {
          "base_uri": "https://localhost:8080/",
          "height": 282
        },
        "id": "Rl0O4GtA0ksl",
        "outputId": "c2884b7e-1e60-49c8-c922-e92cc6766e26"
      },
      "source": [
        "plt.plot(history.history['accuracy'])"
      ],
      "execution_count": 43,
      "outputs": [
        {
          "output_type": "execute_result",
          "data": {
            "text/plain": [
              "[<matplotlib.lines.Line2D at 0x7f1ccb10ad50>]"
            ]
          },
          "metadata": {},
          "execution_count": 43
        },
        {
          "output_type": "display_data",
          "data": {
            "image/png": "[encoded data removed]",
            "text/plain": [
              "<Figure size 432x288 with 1 Axes>"
            ]
          },
          "metadata": {
            "needs_background": "light"
          }
        }
      ]
    },
    {
      "cell_type": "code",
      "metadata": {
        "colab": {
          "base_uri": "https://localhost:8080/"
        },
        "id": "USvBwUuYxygQ",
        "outputId": "097275ce-5182-4e42-e40d-51b30b98dbfa"
      },
      "source": [
        "model.summary()"
      ],
      "execution_count": 34,
      "outputs": [
        {
          "output_type": "stream",
          "name": "stdout",
          "text": [
            "Model: \"sequential_3\"\n",
            "_________________________________________________________________\n",
            "Layer (type)                 Output Shape              Param #   \n",
            "=================================================================\n",
            "flatten_2 (Flatten)          (None, 3072)              0         \n",
            "_________________________________________________________________\n",
            "dense_6 (Dense)              (None, 64)                196672    \n",
            "_________________________________________________________________\n",
            "dense_7 (Dense)              (None, 10)                650       \n",
            "=================================================================\n",
            "Total params: 197,322\n",
            "Trainable params: 197,322\n",
            "Non-trainable params: 0\n",
            "_________________________________________________________________\n"
          ]
        }
      ]
    },
    {
      "cell_type": "code",
      "metadata": {
        "colab": {
          "base_uri": "https://localhost:8080/"
        },
        "id": "0ji31zRJxyYh",
        "outputId": "6925aed6-3000-4809-de55-039d4d67b283"
      },
      "source": [
        "y_test_sparse = K.utils.to_categorical(y_test, num_classes=10)\n",
        "model.evaluate(X_test, y_test_sparse, return_dict=True)"
      ],
      "execution_count": 46,
      "outputs": [
        {
          "output_type": "stream",
          "name": "stdout",
          "text": [
            "313/313 [==============================] - 1s 3ms/step - loss: 2.0640 - accuracy: 0.3086\n"
          ]
        },
        {
          "output_type": "execute_result",
          "data": {
            "text/plain": [
              "{'accuracy': 0.3086000084877014, 'loss': 2.0639545917510986}"
            ]
          },
          "metadata": {},
          "execution_count": 46
        }
      ]
    },
    {
      "cell_type": "code",
      "metadata": {
        "id": "b4dfjdFK4z8f"
      },
      "source": [
        "y_pred = model.predict(X_test[:20])"
      ],
      "execution_count": 47,
      "outputs": []
    },
    {
      "cell_type": "code",
      "metadata": {
        "colab": {
          "base_uri": "https://localhost:8080/"
        },
        "id": "io80GRxn46Aj",
        "outputId": "b83af1a3-8ae8-403e-af53-6af35c0167a9"
      },
      "source": [
        "y_pred.shape"
      ],
      "execution_count": 49,
      "outputs": [
        {
          "output_type": "execute_result",
          "data": {
            "text/plain": [
              "(20, 10)"
            ]
          },
          "metadata": {},
          "execution_count": 49
        }
      ]
    },
    {
      "cell_type": "code",
      "metadata": {
        "colab": {
          "base_uri": "https://localhost:8080/"
        },
        "id": "CKgjYWCw5UMz",
        "outputId": "71efe19c-f3f8-4220-a034-f3d12e20cb9d"
      },
      "source": [
        "model.train_on_batch(X_train[:32], y_train_sparse[:32])"
      ],
      "execution_count": 50,
      "outputs": [
        {
          "output_type": "execute_result",
          "data": {
            "text/plain": [
              "[2.0633137226104736, 0.3084130883216858]"
            ]
          },
          "metadata": {},
          "execution_count": 50
        }
      ]
    },
    {
      "cell_type": "code",
      "metadata": {
        "id": "fXSyZhZ35hxk"
      },
      "source": [
        "model.save('model.h5')"
      ],
      "execution_count": 55,
      "outputs": []
    },
    {
      "cell_type": "code",
      "metadata": {
        "id": "oEOltGHjA-Nt"
      },
      "source": [
        "del(model)"
      ],
      "execution_count": 56,
      "outputs": []
    },
    {
      "cell_type": "code",
      "metadata": {
        "id": "8i1Wr4Z_BAc_"
      },
      "source": [
        "model = K.models.load_model('model.h5')"
      ],
      "execution_count": 58,
      "outputs": []
    },
    {
      "cell_type": "code",
      "metadata": {
        "colab": {
          "base_uri": "https://localhost:8080/"
        },
        "id": "jqmGnlr7BKpf",
        "outputId": "f0ec5349-107a-4c31-b427-cb9fda37e625"
      },
      "source": [
        "model.evaluate(X_test, y_test_sparse, return_dict=True)"
      ],
      "execution_count": 60,
      "outputs": [
        {
          "output_type": "stream",
          "name": "stdout",
          "text": [
            "313/313 [==============================] - 1s 2ms/step - loss: 2.0273 - accuracy: 0.3160\n"
          ]
        },
        {
          "output_type": "execute_result",
          "data": {
            "text/plain": [
              "{'accuracy': 0.3160000145435333, 'loss': 2.027273416519165}"
            ]
          },
          "metadata": {},
          "execution_count": 60
        }
      ]
    }
  ]
}